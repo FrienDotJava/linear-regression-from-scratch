{
 "cells": [
  {
   "cell_type": "code",
   "execution_count": 84,
   "id": "453fc014-4eb9-48f2-b459-32fe2e150191",
   "metadata": {},
   "outputs": [],
   "source": [
    "import pandas as pd\n",
    "import numpy as np\n",
    "import matplotlib.pyplot as plt\n",
    "from sklearn.model_selection import train_test_split"
   ]
  },
  {
   "cell_type": "markdown",
   "id": "a06cb53d-9cf5-4b22-9f6c-056f3def0a97",
   "metadata": {},
   "source": [
    "# Data Loading"
   ]
  },
  {
   "cell_type": "code",
   "execution_count": 86,
   "id": "8050cfd7-a97a-480b-b136-7fa5dafa29bc",
   "metadata": {},
   "outputs": [
    {
     "data": {
      "text/html": [
       "<div>\n",
       "<style scoped>\n",
       "    .dataframe tbody tr th:only-of-type {\n",
       "        vertical-align: middle;\n",
       "    }\n",
       "\n",
       "    .dataframe tbody tr th {\n",
       "        vertical-align: top;\n",
       "    }\n",
       "\n",
       "    .dataframe thead th {\n",
       "        text-align: right;\n",
       "    }\n",
       "</style>\n",
       "<table border=\"1\" class=\"dataframe\">\n",
       "  <thead>\n",
       "    <tr style=\"text-align: right;\">\n",
       "      <th></th>\n",
       "      <th>YearsExperience</th>\n",
       "      <th>Salary</th>\n",
       "    </tr>\n",
       "  </thead>\n",
       "  <tbody>\n",
       "    <tr>\n",
       "      <th>0</th>\n",
       "      <td>1.1</td>\n",
       "      <td>39343.0</td>\n",
       "    </tr>\n",
       "    <tr>\n",
       "      <th>1</th>\n",
       "      <td>1.3</td>\n",
       "      <td>46205.0</td>\n",
       "    </tr>\n",
       "    <tr>\n",
       "      <th>2</th>\n",
       "      <td>1.5</td>\n",
       "      <td>37731.0</td>\n",
       "    </tr>\n",
       "    <tr>\n",
       "      <th>3</th>\n",
       "      <td>2.0</td>\n",
       "      <td>43525.0</td>\n",
       "    </tr>\n",
       "    <tr>\n",
       "      <th>4</th>\n",
       "      <td>2.2</td>\n",
       "      <td>39891.0</td>\n",
       "    </tr>\n",
       "  </tbody>\n",
       "</table>\n",
       "</div>"
      ],
      "text/plain": [
       "   YearsExperience   Salary\n",
       "0              1.1  39343.0\n",
       "1              1.3  46205.0\n",
       "2              1.5  37731.0\n",
       "3              2.0  43525.0\n",
       "4              2.2  39891.0"
      ]
     },
     "execution_count": 86,
     "metadata": {},
     "output_type": "execute_result"
    }
   ],
   "source": [
    "df = pd.read_csv('Salary_Data.csv')\n",
    "\n",
    "df.head()"
   ]
  },
  {
   "cell_type": "markdown",
   "id": "0c3cf169-26d0-4f25-8d06-0274ba54eabd",
   "metadata": {},
   "source": [
    "# Data Splitting"
   ]
  },
  {
   "cell_type": "code",
   "execution_count": 116,
   "id": "fb7da422-2595-4411-afc4-bde63db861d3",
   "metadata": {},
   "outputs": [
    {
     "name": "stdout",
     "output_type": "stream",
     "text": [
      "Train size: (21, 1)\n",
      "Test size: (9, 1)\n"
     ]
    }
   ],
   "source": [
    "X = df.drop('Salary', axis=1)\n",
    "y = df['Salary']\n",
    "\n",
    "X_train, X_test, y_train, y_test = train_test_split(X, y, test_size=0.3, random_state=0)\n",
    "print(\"Train size:\",X_train.shape)\n",
    "print(\"Test size:\",X_test.shape)"
   ]
  },
  {
   "cell_type": "markdown",
   "id": "1525b65b-1f35-45cb-b9b8-b7a72c00bf57",
   "metadata": {},
   "source": [
    "# Training Linear Regression Model"
   ]
  },
  {
   "cell_type": "markdown",
   "id": "f8752f3f-de44-4a2a-bac5-191ad17d19fa",
   "metadata": {},
   "source": [
    "### Linear Regression main equation:\n",
    "\n",
    "$y = wX + b$\n",
    "\n",
    "Where:\n",
    "- \\( y \\) is the predicted output,\n",
    "- \\( X \\) is the input feature,\n",
    "- \\( w \\) is the weight (coefficient),\n",
    "- \\( b \\) is the bias (intercept).\n",
    "---\n",
    "### Equations for computing gradients:\n",
    "\n",
    "$\\frac{\\partial MSE}{\\partial w} = -\\frac{2}{n} \\sum X \\times (y_{\\text{true}} - y_{\\text{pred}})$\n",
    "\n",
    "$\\frac{\\partial MSE}{\\partial b} = -\\frac{2}{n} \\sum (y_{\\text{true}} - y_{\\text{pred}})$\n",
    "\n",
    "---\n",
    "### Updating weight and bias using Gradient Descent\n",
    "\n",
    "$w = w - \\alpha \\times \\frac{\\partial MSE}{\\partial w}$\n",
    "\n",
    "$b = b - \\alpha \\times \\frac{\\partial MSE}{\\partial b}$"
   ]
  },
  {
   "cell_type": "code",
   "execution_count": 106,
   "id": "43096554-c065-4140-a495-1595be0ae86b",
   "metadata": {},
   "outputs": [],
   "source": [
    "def predict(X, w, b):\n",
    "    return X.dot(w) + b\n",
    "\n",
    "row, col = X_train.shape\n",
    "learning_rate = 0.01\n",
    "iterations = 100\n",
    "w = np.zeros(col)\n",
    "b = 0\n",
    "x = X_train\n",
    "y = y_train\n",
    "n = row\n",
    "\n",
    "for i in range(iterations):\n",
    "    y_pred = predict(x, w, b)\n",
    "    \n",
    "    error = y - y_pred\n",
    "    \n",
    "    dw = -(2/n) * sum((x.T).dot(error))\n",
    "    db = -(2/n) * sum(error)\n",
    "    \n",
    "    w = w - learning_rate * dw\n",
    "    b = b - learning_rate * db\n"
   ]
  },
  {
   "cell_type": "markdown",
   "id": "6f103abd-d77a-4fe7-a994-47c15d74fe16",
   "metadata": {},
   "source": [
    "# Testing The Model"
   ]
  },
  {
   "cell_type": "code",
   "execution_count": 107,
   "id": "d4f0c543-6b83-4896-9dab-218ae4d3e16a",
   "metadata": {},
   "outputs": [
    {
     "name": "stdout",
     "output_type": "stream",
     "text": [
      "R2 Score: 0.9263113826284276\n"
     ]
    }
   ],
   "source": [
    "y_pred = predict(X_test, w, b)\n",
    "\n",
    "ssRes = sum(pow(y_test - y_pred,2))\n",
    "ssTot = sum(pow(y_test - (sum(y_test)/len(y_test)),2))\n",
    "R2 = 1 - ssRes/ssTot\n",
    "\n",
    "print(\"R2 Score:\",R2)"
   ]
  },
  {
   "cell_type": "markdown",
   "id": "be2b1a78-2ceb-4922-83df-8f3727cb91c4",
   "metadata": {},
   "source": [
    "R-Squared (R² or the coefficient of determination) is a statistical measure in a regression model that determines the proportion of variance in the dependent variable that can be explained by the independent variable. In other words, r-squared shows how well the data fit the regression model (the goodness of fit). \n",
    "(Source:[CorporateFinanceInstitute.com](https://corporatefinanceinstitute.com/resources/data-science/r-squared/#:~:text=R%2DSquared%20(R%C2%B2%20or%20the,(the%20goodness%20of%20fit).)))\n",
    "\n",
    "Interpretation of R² Score\n",
    "- Close to 1: The model explains most of the variability in the target variable.\n",
    "- Close to 0: The model does not explain much variability.\n",
    "- Negative: The model performs worse than simply predicting the mean.\n",
    "\n",
    "This model results R² score of 0.926 which means the model performs very good."
   ]
  },
  {
   "cell_type": "code",
   "execution_count": 115,
   "id": "942e2bd2-5204-4723-bcc0-69a3f6a582eb",
   "metadata": {},
   "outputs": [
    {
     "data": {
      "image/png": "[encoded data removed]",
      "text/plain": [
       "<Figure size 640x480 with 1 Axes>"
      ]
     },
     "metadata": {},
     "output_type": "display_data"
    }
   ],
   "source": [
    "plt.scatter(X_test, y_test)\n",
    "plt.plot(X_test, y_pred, color='red')\n",
    "plt.xlabel(\"Years of Experience\")\n",
    "plt.ylabel(\"Salary\")\n",
    "plt.title(\"Salary and Work Experience (Test Data)\")\n",
    "plt.show()"
   ]
  }
 ],
 "metadata": {
  "kernelspec": {
   "display_name": "Python 3 (ipykernel)",
   "language": "python",
   "name": "python3"
  },
  "language_info": {
   "codemirror_mode": {
    "name": "ipython",
    "version": 3
   },
   "file_extension": ".py",
   "mimetype": "text/x-python",
   "name": "python",
   "nbconvert_exporter": "python",
   "pygments_lexer": "ipython3",
   "version": "3.12.2"
  }
 },
 "nbformat": 4,
 "nbformat_minor": 5
}
